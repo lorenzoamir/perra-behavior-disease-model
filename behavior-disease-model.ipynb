{
 "cells": [
  {
   "cell_type": "code",
   "execution_count": 1,
   "id": "9c38bad8",
   "metadata": {
    "scrolled": true
   },
   "outputs": [],
   "source": [
    "import numpy as np\n",
    "import matplotlib.pyplot as plt\n",
    "import matplotlib.ticker as mtick\n",
    "from numpy.random import default_rng\n",
    "import seaborn as sns\n",
    "import pandas as pd"
   ]
  },
  {
   "cell_type": "code",
   "execution_count": 2,
   "id": "d6dbc7c2",
   "metadata": {},
   "outputs": [],
   "source": [
    "N = int(1e6)\n",
    "N_sims = 1000\n",
    "t_max = 700\n",
    "I0 = 1\n",
    "\n",
    "b    = 0.2\n",
    "mu   = 0.1\n",
    "r_b  = 0.05\n",
    "b_f  = 0.7\n",
    "mu_f = 0.015\n",
    "\n",
    "frac = 0.001\n",
    "\n",
    "init = {\"S\"   : N-I0,\n",
    "        \"S_f\" : 0,\n",
    "        \"I\"   : I0,\n",
    "        \"R\"   : 0,\n",
    "       }\n",
    "\n",
    "rng = default_rng()"
   ]
  },
  {
   "cell_type": "code",
   "execution_count": 3,
   "id": "47ab39c1",
   "metadata": {},
   "outputs": [],
   "source": [
    "def simulate(init, t_max):\n",
    "\n",
    "    compartments = {\"S\"  : init[\"S\"],\n",
    "                    \"S_f\": init[\"S_f\"],\n",
    "                    \"I\"  : init[\"I\"],\n",
    "                    \"R\"  : init[\"R\"],\n",
    "                   }\n",
    "    \n",
    "    time_series = {\"S\"  : [init[\"S\"]],\n",
    "                   \"S_f\": [init[\"S_f\"]],\n",
    "                   \"I\"  : [init[\"I\"]],\n",
    "                   \"R\"  : [init[\"R\"]],\n",
    "                   }\n",
    "\n",
    "    for t in range(0, t_max):\n",
    "        S, S_f, I, R = list(compartments.values())\n",
    "\n",
    "        ##### TRANSMISSION PROCESSES #####\n",
    "        # The convention is dABC for a process A + B -> C + B\n",
    "\n",
    "        # Disease Transmission for S compartment #\n",
    "        # S + I -(b)-> I + I\n",
    "        dSII = rng.binomial(S, b*I/N)\n",
    "\n",
    "        # Disease Transmission for S_f compartment #\n",
    "        # S_f + I -(r_b*b)-> I + I\n",
    "        dS_fII = rng.binomial(S_f, r_b*b*I/N)\n",
    "\n",
    "        # Fear Transmission #\n",
    "        # S + I -(b_f)-> S_f + I\n",
    "        dSIS_f = rng.binomial(S, b_f*I/N)\n",
    "\n",
    "        # Overcoming the fear after contact with R #\n",
    "        # S_f + R -(mu_f)-> S + R\n",
    "        dS_fRS = rng.binomial(S_f, mu_f*R/N)\n",
    "\n",
    "        # Overcoming the fear after contact with S #\n",
    "        # S_f + S -(mu_f)-> S + S\n",
    "        dS_fSS = rng.binomial(S_f, mu_f*S/N)\n",
    "\n",
    "        ##### TRANSITION PROCESSES #####\n",
    "\n",
    "        # Healing #\n",
    "        # I -(mu)-> R\n",
    "        dIR = rng.binomial(I, mu)\n",
    "\n",
    "        ##################################################################\n",
    "        #                     # dSII# dS_fII# dSIS_f# dS_fRS# dS_fSS# dIR#\n",
    "        #                     #     #       #       #       #       #    #\n",
    "        ##################################################################    \n",
    "        compartments[\"S\"]   += -dSII         -dSIS_f +dS_fRS +dS_fSS     #\n",
    "        #                     #     #       #       #       #       #    #\n",
    "        #######################     #       #       #       #       #    #\n",
    "        compartments[\"S_f\"] +=       -dS_fII +dSIS_f -dS_fRS -dS_fSS     #\n",
    "        #                     #     #       #       #       #       #    #\n",
    "        #######################     #       #       #       #       #    #\n",
    "        compartments[\"I\"]   += +dSII +dS_fII                         -dIR#\n",
    "        #                     #     #       #       #       #       #    #\n",
    "        #######################     #       #       #       #       #    #\n",
    "        compartments[\"R\"]   +=                                       +dIR#\n",
    "        #                     #     #       #       #       #       #    #\n",
    "        ##################################################################\n",
    "\n",
    "        for key in compartments:\n",
    "            compartments[key] = np.clip(compartments[key], 0, N)\n",
    "            time_series[key].append(compartments[key])\n",
    "\n",
    "        tt = np.linspace(0, t_max, t_max+1)\n",
    "        \n",
    "    return tt, time_series"
   ]
  },
  {
   "cell_type": "code",
   "execution_count": 4,
   "id": "da3e3354",
   "metadata": {
    "scrolled": false
   },
   "outputs": [
    {
     "name": "stdout",
     "output_type": "stream",
     "text": [
      "1000/1000\r"
     ]
    },
    {
     "data": {
      "image/png": "[encoded data removed]",
      "text/plain": [
       "<Figure size 720x576 with 1 Axes>"
      ]
     },
     "metadata": {
      "needs_background": "light"
     },
     "output_type": "display_data"
    },
    {
     "name": "stdout",
     "output_type": "stream",
     "text": [
      "CPU times: user 1min 30s, sys: 463 ms, total: 1min 30s\n",
      "Wall time: 1min 30s\n"
     ]
    }
   ],
   "source": [
    "%%time\n",
    "\n",
    "# Let's create a matrix \"sims_matrix\" with N_sims rows and t_max columns,\n",
    "# each row represents the time-series of a single simulation\n",
    "\n",
    "step = 10\n",
    "\n",
    "fontsize = 22\n",
    "\n",
    "sims_matrix = np.zeros((N_sims, t_max+1))\n",
    "\n",
    "fig, ax = plt.subplots(figsize=(10, 8))\n",
    "#plt.suptitle(\"$N={}, i_0=1/N, \\\\beta={}, \\mu={}, $\".format(N, b, mu) + \\\n",
    "#             \"$r_\\\\beta={}, \\\\beta_F={}, \\mu_F={}$\".format(r_b, b_f, mu_f), fontsize=18)\n",
    "ax.set_xlabel('$time[days]$', fontsize = fontsize)\n",
    "ax.set_ylabel('I(t)', fontsize = fontsize, labelpad = 20).set_rotation(0)\n",
    "ax.yaxis.set_major_formatter(mtick.PercentFormatter()) #display \"%\" sign on y axis\n",
    "\n",
    "\n",
    "for i, row in enumerate(sims_matrix):\n",
    "    print(\"{}/{}\".format(i+1, len(sims_matrix)), end='\\r')\n",
    "    tt, result = simulate(init, t_max)\n",
    "    \n",
    "    if(result[\"R\"][-1] >= frac * N): # Only keep runs where the desease reaches a significant fraction of the pupulation\n",
    "        row[:] = [elem*100/N for elem in result[\"I\"]]\n",
    "        #plt.plot(tt, [ elem/N for elem in result[\"I\"] ], color=(0.1, 0.1, 0.1, 0.2), linestyle='dotted')\n",
    "\n",
    "sims_matrix = sims_matrix[~np.all(sims_matrix == 0, axis=1)]\n",
    "\n",
    "tt = np.linspace(0, t_max, t_max+1)\n",
    "tt_step = np.array([int(t) for t in tt[::step]])\n",
    "\n",
    "df_dict = {'time':[],\n",
    "           'i': []\n",
    "          }\n",
    "\n",
    "for t in tt_step:\n",
    "    for row in sims_matrix:\n",
    "        df_dict['time'].append(t)\n",
    "        df_dict['i'].append(row[t])\n",
    "\n",
    "df = pd.DataFrame(df_dict)\n",
    "\n",
    "boxplot = sns.boxplot(x='time', y='i', data=df, color=\"skyblue\", ax=ax, showfliers = False)\n",
    "\n",
    "#ave = np.average(sims_matrix, axis=0)\n",
    "#fake_tt = np.linspace(0, len(tt_step)-1, len(ave))\n",
    "#ax.plot(fake_tt, ave, color=\"k\", linestyle=\"solid\", linewidth=3, label=\"Average\")\n",
    "\n",
    "#plt.xlim(0, t_max)\n",
    "#ax.xaxis.set_major_locator(mtick.MultipleLocator(step))\n",
    "#ax.xaxis.set_major_formatter(mtick.ScalarFormatter())\n",
    "\n",
    "ax.xaxis.set_major_locator(mtick.MultipleLocator(10))\n",
    "ax.xaxis.set_minor_locator(mtick.MultipleLocator(5))\n",
    "\n",
    "#ax.xaxis.set_major_formatter(mtick.ScalarFormatter())\n",
    "\n",
    "plt.xticks(fontsize=fontsize)\n",
    "plt.yticks(fontsize=fontsize)\n",
    "plt.ylabel('$i(t)$', fontsize=fontsize)\n",
    "plt.xlabel('$t$', fontsize=fontsize)\n",
    "\n",
    "#fig.tight_layout()\n",
    "plt.show()\n",
    "#plt.legend()"
   ]
  },
  {
   "cell_type": "code",
   "execution_count": null,
   "id": "5ba4dadb",
   "metadata": {},
   "outputs": [],
   "source": []
  },
  {
   "cell_type": "code",
   "execution_count": null,
   "id": "1130160a",
   "metadata": {},
   "outputs": [],
   "source": []
  }
 ],
 "metadata": {
  "kernelspec": {
   "display_name": "Python 3 (ipykernel)",
   "language": "python",
   "name": "python3"
  },
  "language_info": {
   "codemirror_mode": {
    "name": "ipython",
    "version": 3
   },
   "file_extension": ".py",
   "mimetype": "text/x-python",
   "name": "python",
   "nbconvert_exporter": "python",
   "pygments_lexer": "ipython3",
   "version": "3.10.5"
  }
 },
 "nbformat": 4,
 "nbformat_minor": 5
}
